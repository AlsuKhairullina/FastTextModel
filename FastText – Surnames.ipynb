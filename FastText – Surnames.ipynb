{
 "cells": [
  {
   "cell_type": "markdown",
   "id": "5e9c5ebd",
   "metadata": {},
   "source": [
    "Импортируем нужные библиотеки."
   ]
  },
  {
   "cell_type": "code",
   "execution_count": null,
   "id": "6c9a11e9",
   "metadata": {},
   "outputs": [],
   "source": [
    "import numpy as np \n",
    "import pandas as pd \n",
    "import fasttext\n",
    "from faker import Faker\n",
    "from sdv.tabular import GaussianCopula"
   ]
  },
  {
   "cell_type": "markdown",
   "id": "3e7906ea",
   "metadata": {},
   "source": [
    "Для генерации фамилий датасета решено использовать библиотеку, которая генерирует синтетические данные. \n",
    "\n",
    "Конкретно здесь используются метод last_name, который сгенерирует массив из 100 тысяч фамилий, позже преобразованный в датафрейм."
   ]
  },
  {
   "cell_type": "code",
   "execution_count": 54,
   "id": "1a0423a7",
   "metadata": {
    "scrolled": false
   },
   "outputs": [],
   "source": [
    "fake = Faker(\"en_US\")"
   ]
  },
  {
   "cell_type": "code",
   "execution_count": 55,
   "id": "a24d0b99",
   "metadata": {
    "scrolled": true
   },
   "outputs": [],
   "source": [
    "surnames = []\n",
    "for _ in range(100000):\n",
    "    surnames.append(fake.last_name())"
   ]
  },
  {
   "cell_type": "code",
   "execution_count": 56,
   "id": "c2c9cf80",
   "metadata": {
    "scrolled": false
   },
   "outputs": [
    {
     "data": {
      "text/html": [
       "<div>\n",
       "<style scoped>\n",
       "    .dataframe tbody tr th:only-of-type {\n",
       "        vertical-align: middle;\n",
       "    }\n",
       "\n",
       "    .dataframe tbody tr th {\n",
       "        vertical-align: top;\n",
       "    }\n",
       "\n",
       "    .dataframe thead th {\n",
       "        text-align: right;\n",
       "    }\n",
       "</style>\n",
       "<table border=\"1\" class=\"dataframe\">\n",
       "  <thead>\n",
       "    <tr style=\"text-align: right;\">\n",
       "      <th></th>\n",
       "      <th>0</th>\n",
       "    </tr>\n",
       "  </thead>\n",
       "  <tbody>\n",
       "    <tr>\n",
       "      <th>0</th>\n",
       "      <td>Frazier</td>\n",
       "    </tr>\n",
       "    <tr>\n",
       "      <th>1</th>\n",
       "      <td>Tucker</td>\n",
       "    </tr>\n",
       "    <tr>\n",
       "      <th>2</th>\n",
       "      <td>Mcdonald</td>\n",
       "    </tr>\n",
       "    <tr>\n",
       "      <th>3</th>\n",
       "      <td>Washington</td>\n",
       "    </tr>\n",
       "    <tr>\n",
       "      <th>4</th>\n",
       "      <td>White</td>\n",
       "    </tr>\n",
       "  </tbody>\n",
       "</table>\n",
       "</div>"
      ],
      "text/plain": [
       "            0\n",
       "0     Frazier\n",
       "1      Tucker\n",
       "2    Mcdonald\n",
       "3  Washington\n",
       "4       White"
      ]
     },
     "execution_count": 56,
     "metadata": {},
     "output_type": "execute_result"
    }
   ],
   "source": [
    "df = pd.DataFrame(surnames)\n",
    "df.head()"
   ]
  },
  {
   "cell_type": "markdown",
   "id": "f73b063a",
   "metadata": {},
   "source": [
    "Нулевых значений в таблице нет (но если бы были, их нужно было бы убрать)."
   ]
  },
  {
   "cell_type": "code",
   "execution_count": 57,
   "id": "e7863d50",
   "metadata": {},
   "outputs": [],
   "source": [
    "df=df.dropna(axis=0)"
   ]
  },
  {
   "cell_type": "markdown",
   "id": "f63c6289",
   "metadata": {},
   "source": [
    "Меняем название столбца для удобства."
   ]
  },
  {
   "cell_type": "code",
   "execution_count": 59,
   "id": "e808739c",
   "metadata": {
    "scrolled": true
   },
   "outputs": [],
   "source": [
    "df.columns = ['last_name']"
   ]
  },
  {
   "cell_type": "code",
   "execution_count": 60,
   "id": "3ca07cc9",
   "metadata": {
    "scrolled": false
   },
   "outputs": [
    {
     "data": {
      "text/html": [
       "<div>\n",
       "<style scoped>\n",
       "    .dataframe tbody tr th:only-of-type {\n",
       "        vertical-align: middle;\n",
       "    }\n",
       "\n",
       "    .dataframe tbody tr th {\n",
       "        vertical-align: top;\n",
       "    }\n",
       "\n",
       "    .dataframe thead th {\n",
       "        text-align: right;\n",
       "    }\n",
       "</style>\n",
       "<table border=\"1\" class=\"dataframe\">\n",
       "  <thead>\n",
       "    <tr style=\"text-align: right;\">\n",
       "      <th></th>\n",
       "      <th>last_name</th>\n",
       "    </tr>\n",
       "  </thead>\n",
       "  <tbody>\n",
       "    <tr>\n",
       "      <th>0</th>\n",
       "      <td>Frazier</td>\n",
       "    </tr>\n",
       "    <tr>\n",
       "      <th>1</th>\n",
       "      <td>Tucker</td>\n",
       "    </tr>\n",
       "    <tr>\n",
       "      <th>2</th>\n",
       "      <td>Mcdonald</td>\n",
       "    </tr>\n",
       "    <tr>\n",
       "      <th>3</th>\n",
       "      <td>Washington</td>\n",
       "    </tr>\n",
       "    <tr>\n",
       "      <th>4</th>\n",
       "      <td>White</td>\n",
       "    </tr>\n",
       "  </tbody>\n",
       "</table>\n",
       "</div>"
      ],
      "text/plain": [
       "    last_name\n",
       "0     Frazier\n",
       "1      Tucker\n",
       "2    Mcdonald\n",
       "3  Washington\n",
       "4       White"
      ]
     },
     "execution_count": 60,
     "metadata": {},
     "output_type": "execute_result"
    }
   ],
   "source": [
    "df.head()"
   ]
  },
  {
   "cell_type": "markdown",
   "id": "98208516",
   "metadata": {},
   "source": [
    "Поскольку в сгенерированном датасете достаточно много повторений, было также принято решение дополнить датасет \n",
    "данными, сгенерированными на основе первого датасета. \n",
    "\n",
    "Для этого используется библиотека SDV, с помощью которого добавляем в датасет 50 тысяч новых значений.\n",
    "\n",
    "Соединяем датасеты."
   ]
  },
  {
   "cell_type": "code",
   "execution_count": 61,
   "id": "b0666ea8",
   "metadata": {},
   "outputs": [],
   "source": [
    "model = GaussianCopula()\n",
    "model.fit(df)"
   ]
  },
  {
   "cell_type": "code",
   "execution_count": 62,
   "id": "a72ded55",
   "metadata": {},
   "outputs": [
    {
     "data": {
      "text/html": [
       "<div>\n",
       "<style scoped>\n",
       "    .dataframe tbody tr th:only-of-type {\n",
       "        vertical-align: middle;\n",
       "    }\n",
       "\n",
       "    .dataframe tbody tr th {\n",
       "        vertical-align: top;\n",
       "    }\n",
       "\n",
       "    .dataframe thead th {\n",
       "        text-align: right;\n",
       "    }\n",
       "</style>\n",
       "<table border=\"1\" class=\"dataframe\">\n",
       "  <thead>\n",
       "    <tr style=\"text-align: right;\">\n",
       "      <th></th>\n",
       "      <th>last_name</th>\n",
       "    </tr>\n",
       "  </thead>\n",
       "  <tbody>\n",
       "    <tr>\n",
       "      <th>0</th>\n",
       "      <td>Moore</td>\n",
       "    </tr>\n",
       "    <tr>\n",
       "      <th>1</th>\n",
       "      <td>Castillo</td>\n",
       "    </tr>\n",
       "    <tr>\n",
       "      <th>2</th>\n",
       "      <td>Miller</td>\n",
       "    </tr>\n",
       "    <tr>\n",
       "      <th>3</th>\n",
       "      <td>Pierce</td>\n",
       "    </tr>\n",
       "    <tr>\n",
       "      <th>4</th>\n",
       "      <td>Greer</td>\n",
       "    </tr>\n",
       "  </tbody>\n",
       "</table>\n",
       "</div>"
      ],
      "text/plain": [
       "  last_name\n",
       "0     Moore\n",
       "1  Castillo\n",
       "2    Miller\n",
       "3    Pierce\n",
       "4     Greer"
      ]
     },
     "execution_count": 62,
     "metadata": {},
     "output_type": "execute_result"
    }
   ],
   "source": [
    "sample = model.sample(50000)\n",
    "sample.head()"
   ]
  },
  {
   "cell_type": "code",
   "execution_count": 63,
   "id": "35d9c2b3",
   "metadata": {},
   "outputs": [],
   "source": [
    "df = pd.concat([df,sample])"
   ]
  },
  {
   "cell_type": "markdown",
   "id": "0f24afc7",
   "metadata": {},
   "source": [
    "Посмотрим на дупликаты. Их много..."
   ]
  },
  {
   "cell_type": "code",
   "execution_count": 74,
   "id": "76a2e8cf",
   "metadata": {
    "scrolled": false
   },
   "outputs": [
    {
     "name": "stdout",
     "output_type": "stream",
     "text": [
      "last_name\n",
      "abbott        61\n",
      "acevedo       62\n",
      "acosta        85\n",
      "adams        569\n",
      "adkins       108\n",
      "            ... \n",
      "zamora        79\n",
      "zavala        37\n",
      "zhang         50\n",
      "zimmerman     92\n",
      "zuniga        44\n",
      "Length: 1000, dtype: int64\n"
     ]
    }
   ],
   "source": [
    "dups = df.pivot_table(columns=['last_name'], aggfunc='size')\n",
    "print(dups)"
   ]
  },
  {
   "cell_type": "markdown",
   "id": "0dbdab34",
   "metadata": {},
   "source": [
    "Поскольку данные представлены в \"чистом\" виде, предварительная обработка (с помощью регулярных выражений, например) не нужна. \n",
    "\n",
    "Предварительная обработка нужна для предложений, больших текстов."
   ]
  },
  {
   "cell_type": "code",
   "execution_count": 66,
   "id": "1c52a23f",
   "metadata": {},
   "outputs": [],
   "source": [
    "def preprocess(text):\n",
    "    #text = re.sub(r'[^\\w\\s\\']',' ', text)\n",
    "    #text = re.sub(r'[ \\n]+', ' ', text)\n",
    "    #text = re.sub(r'[0-9]+', ' ', text)\n",
    "    return text.strip().lower() "
   ]
  },
  {
   "cell_type": "code",
   "execution_count": 67,
   "id": "9a38f535",
   "metadata": {
    "scrolled": false
   },
   "outputs": [],
   "source": [
    "df.last_name = df.last_name.map(preprocess)"
   ]
  },
  {
   "cell_type": "code",
   "execution_count": 68,
   "id": "93be5dc3",
   "metadata": {},
   "outputs": [],
   "source": [
    "df.to_csv(\"surnames.txt\", columns=[\"last_name\"], header=None, index=False)"
   ]
  },
  {
   "cell_type": "code",
   "execution_count": null,
   "id": "679c25fe",
   "metadata": {},
   "outputs": [],
   "source": [
    "Самая главная часть – создание модели на основе библиотеки FastText. \n",
    "\n",
    "FastText специализируется на создании векторов слов, которые помогают находить семантическую похожесть или\n",
    "похожесть по составу.\n",
    "\n",
    "Наиболее важными параметрами модели являются ее размерность и диапазон размеров подслов. Размерность (dim) \n",
    "определяет размер векторов, чем они больше, тем больше информации они могут захватить, но для изучения требуется \n",
    "больше данных. Но, если они слишком большие, их труднее и медленнее тренировать. По умолчанию мы используем \n",
    "100 размеров, но также популярны любые значения от 100 до 300. Подслова — это все подстроки, содержащиеся \n",
    "в слове между минимальным размером (minn) и максимальным размером (maxn). По умолчанию мы берем все подслова \n",
    "от 3 до 6 символов, но для разных языков может быть более подходящим другой диапазон."
   ]
  },
  {
   "cell_type": "code",
   "execution_count": 87,
   "id": "dbbcff08",
   "metadata": {
    "scrolled": false
   },
   "outputs": [
    {
     "name": "stderr",
     "output_type": "stream",
     "text": [
      "Read 0M words\n",
      "Number of words:  1001\n",
      "Number of labels: 0\n",
      "Progress: 100.0% words/sec/thread: 2086338 lr:  0.000000 avg.loss:  3.230946 ETA:   0h 0m 0s\n"
     ]
    }
   ],
   "source": [
    "model = fasttext.train_unsupervised(\"surnames.txt\", minn=3, maxn=6, dim=300)"
   ]
  },
  {
   "cell_type": "markdown",
   "id": "55bfe1c3",
   "metadata": {},
   "source": [
    "У FastText есть несколько методов, которые могут найти похожие значения из словаря. \n",
    "\n",
    "Например, get_nearest_neighbors показывает похожие слова. Но в данном случае поиск семантически похожих слов не имеет смысла, поскольку мы работаем с фамилиями."
   ]
  },
  {
   "cell_type": "code",
   "execution_count": 88,
   "id": "ddd5d2d5",
   "metadata": {
    "scrolled": true
   },
   "outputs": [
    {
     "data": {
      "text/plain": [
       "[(0.9999931454658508, 'chavez'),\n",
       " (0.9999918937683105, 'vasquez'),\n",
       " (0.999991774559021, 'velazquez'),\n",
       " (0.9999914765357971, 'hull'),\n",
       " (0.9999907612800598, 'bird'),\n",
       " (0.9999898672103882, 'black'),\n",
       " (0.9999896287918091, 'zuniga'),\n",
       " (0.9999890923500061, 'scott'),\n",
       " (0.9999886155128479, 'wyatt'),\n",
       " (0.9999880194664001, 'huffman')]"
      ]
     },
     "execution_count": 88,
     "metadata": {},
     "output_type": "execute_result"
    }
   ],
   "source": [
    "model.get_nearest_neighbors(\"rich\")"
   ]
  },
  {
   "cell_type": "code",
   "execution_count": 89,
   "id": "de35b9bc",
   "metadata": {},
   "outputs": [
    {
     "data": {
      "text/plain": [
       "[(0.9999982118606567, 'brennan'),\n",
       " (0.9999974370002747, 'rose'),\n",
       " (0.9999971389770508, 'swanson'),\n",
       " (0.9999971389770508, 'reeves'),\n",
       " (0.9999970197677612, 'harrison'),\n",
       " (0.9999969005584717, 'lane'),\n",
       " (0.9999968409538269, 'hanson'),\n",
       " (0.9999968409538269, 'dean'),\n",
       " (0.9999967217445374, 'ferrell'),\n",
       " (0.9999966621398926, 'lawson')]"
      ]
     },
     "execution_count": 89,
     "metadata": {},
     "output_type": "execute_result"
    }
   ],
   "source": [
    "model.get_nearest_neighbors(\"ander\")"
   ]
  },
  {
   "cell_type": "markdown",
   "id": "10367a85",
   "metadata": {},
   "source": [
    "Какой итог можно сделать?\n",
    "\n",
    "Как мне показалось, модель не совсем хорошо справляется с поиском слов, похожих по составу. Возможно, дело не в самом хорошем сгенерированном датасете."
   ]
  }
 ],
 "metadata": {
  "kernelspec": {
   "display_name": "Python 3 (ipykernel)",
   "language": "python",
   "name": "python3"
  },
  "language_info": {
   "codemirror_mode": {
    "name": "ipython",
    "version": 3
   },
   "file_extension": ".py",
   "mimetype": "text/x-python",
   "name": "python",
   "nbconvert_exporter": "python",
   "pygments_lexer": "ipython3",
   "version": "3.9.13"
  }
 },
 "nbformat": 4,
 "nbformat_minor": 5
}
